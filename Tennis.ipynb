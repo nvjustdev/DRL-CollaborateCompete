{
 "cells": [
  {
   "cell_type": "markdown",
   "metadata": {},
   "source": [
    "# Collaboration and Competition\n",
    "\n",
    "---\n",
    "\n",
    "In this notebook, you will learn how to use the Unity ML-Agents environment for the third project of the [Deep Reinforcement Learning Nanodegree](https://www.udacity.com/course/deep-reinforcement-learning-nanodegree--nd893) program.\n",
    "\n",
    "### 1. Start the Environment\n",
    "\n",
    "We begin by importing the necessary packages.  If the code cell below returns an error, please revisit the project instructions to double-check that you have installed [Unity ML-Agents](https://github.com/Unity-Technologies/ml-agents/blob/master/docs/Installation.md) and [NumPy](http://www.numpy.org/)."
   ]
  },
  {
   "cell_type": "code",
   "execution_count": 1,
   "metadata": {},
   "outputs": [],
   "source": [
    "from unityagents import UnityEnvironment\n",
    "import numpy as np\n",
    "import gym\n",
    "import random\n",
    "import torch\n",
    "import numpy as np\n",
    "from collections import deque\n",
    "import matplotlib.pyplot as plt\n",
    "import time\n",
    "%matplotlib inline"
   ]
  },
  {
   "cell_type": "markdown",
   "metadata": {},
   "source": [
    "Next, we will start the environment!  **_Before running the code cell below_**, change the `file_name` parameter to match the location of the Unity environment that you downloaded.\n",
    "\n",
    "- **Mac**: `\"path/to/Tennis.app\"`\n",
    "- **Windows** (x86): `\"path/to/Tennis_Windows_x86/Tennis.exe\"`\n",
    "- **Windows** (x86_64): `\"path/to/Tennis_Windows_x86_64/Tennis.exe\"`\n",
    "- **Linux** (x86): `\"path/to/Tennis_Linux/Tennis.x86\"`\n",
    "- **Linux** (x86_64): `\"path/to/Tennis_Linux/Tennis.x86_64\"`\n",
    "- **Linux** (x86, headless): `\"path/to/Tennis_Linux_NoVis/Tennis.x86\"`\n",
    "- **Linux** (x86_64, headless): `\"path/to/Tennis_Linux_NoVis/Tennis.x86_64\"`\n",
    "\n",
    "For instance, if you are using a Mac, then you downloaded `Tennis.app`.  If this file is in the same folder as the notebook, then the line below should appear as follows:\n",
    "```\n",
    "env = UnityEnvironment(file_name=\"Tennis.app\")\n",
    "```"
   ]
  },
  {
   "cell_type": "code",
   "execution_count": 2,
   "metadata": {},
   "outputs": [
    {
     "name": "stderr",
     "output_type": "stream",
     "text": [
      "INFO:unityagents:\n",
      "'Academy' started successfully!\n",
      "Unity Academy name: Academy\n",
      "        Number of Brains: 1\n",
      "        Number of External Brains : 1\n",
      "        Lesson number : 0\n",
      "        Reset Parameters :\n",
      "\t\t\n",
      "Unity brain name: TennisBrain\n",
      "        Number of Visual Observations (per agent): 0\n",
      "        Vector Observation space type: continuous\n",
      "        Vector Observation space size (per agent): 8\n",
      "        Number of stacked Vector Observation: 3\n",
      "        Vector Action space type: continuous\n",
      "        Vector Action space size (per agent): 2\n",
      "        Vector Action descriptions: , \n"
     ]
    }
   ],
   "source": [
    "env = UnityEnvironment(file_name=\"Tennis.app\")"
   ]
  },
  {
   "cell_type": "markdown",
   "metadata": {},
   "source": [
    "Environments contain **_brains_** which are responsible for deciding the actions of their associated agents. Here we check for the first brain available, and set it as the default brain we will be controlling from Python."
   ]
  },
  {
   "cell_type": "code",
   "execution_count": 3,
   "metadata": {},
   "outputs": [],
   "source": [
    "# get the default brain\n",
    "brain_name = env.brain_names[0]\n",
    "brain = env.brains[brain_name]"
   ]
  },
  {
   "cell_type": "markdown",
   "metadata": {},
   "source": [
    "### 2. Examine the State and Action Spaces\n",
    "\n",
    "In this environment, two agents control rackets to bounce a ball over a net. If an agent hits the ball over the net, it receives a reward of +0.1.  If an agent lets a ball hit the ground or hits the ball out of bounds, it receives a reward of -0.01.  Thus, the goal of each agent is to keep the ball in play.\n",
    "\n",
    "The observation space consists of 8 variables corresponding to the position and velocity of the ball and racket. Two continuous actions are available, corresponding to movement toward (or away from) the net, and jumping. \n",
    "\n",
    "Run the code cell below to print some information about the environment."
   ]
  },
  {
   "cell_type": "code",
   "execution_count": 4,
   "metadata": {},
   "outputs": [
    {
     "name": "stdout",
     "output_type": "stream",
     "text": [
      "Number of agents: 2\n",
      "Size of each action: 2\n",
      "There are 2 agents. Each observes a state with length: 24\n",
      "The state for the first agent looks like: [ 0.          0.          0.          0.          0.          0.\n",
      "  0.          0.          0.          0.          0.          0.\n",
      "  0.          0.          0.          0.         -6.65278625 -1.5\n",
      " -0.          0.          6.83172083  6.         -0.          0.        ]\n"
     ]
    }
   ],
   "source": [
    "# reset the environment\n",
    "env_info = env.reset(train_mode=True)[brain_name]\n",
    "\n",
    "# number of agents \n",
    "num_agents = len(env_info.agents)\n",
    "print('Number of agents:', num_agents)\n",
    "\n",
    "# size of each action\n",
    "action_size = brain.vector_action_space_size\n",
    "print('Size of each action:', action_size)\n",
    "\n",
    "# examine the state space \n",
    "states = env_info.vector_observations\n",
    "state_size = states.shape[1]\n",
    "print('There are {} agents. Each observes a state with length: {}'.format(states.shape[0], state_size))\n",
    "print('The state for the first agent looks like:', states[0])"
   ]
  },
  {
   "cell_type": "markdown",
   "metadata": {},
   "source": [
    "### 3. Take Random Actions in the Environment\n",
    "\n",
    "In the next code cell, you will learn how to use the Python API to control the agents and receive feedback from the environment.\n",
    "\n",
    "Once this cell is executed, you will watch the agents' performance, if they select actions at random with each time step.  A window should pop up that allows you to observe the agents.\n",
    "\n",
    "Of course, as part of the project, you'll have to change the code so that the agents are able to use their experiences to gradually choose better actions when interacting with the environment!"
   ]
  },
  {
   "cell_type": "code",
   "execution_count": 5,
   "metadata": {},
   "outputs": [
    {
     "name": "stdout",
     "output_type": "stream",
     "text": [
      "Score (max over agents) from episode 1: 0.0\n",
      "Score (max over agents) from episode 2: 0.0\n",
      "Score (max over agents) from episode 3: 0.0\n",
      "Score (max over agents) from episode 4: 0.0\n",
      "Score (max over agents) from episode 5: 0.09000000171363354\n"
     ]
    }
   ],
   "source": [
    "for i in range(1, 6):                                      # play game for 5 episodes\n",
    "    env_info = env.reset(train_mode=False)[brain_name]     # reset the environment    \n",
    "    states = env_info.vector_observations                  # get the current state (for each agent)\n",
    "    scores = np.zeros(num_agents)                          # initialize the score (for each agent)\n",
    "    while True:\n",
    "        actions = np.random.randn(num_agents, action_size) # select an action (for each agent)\n",
    "        actions = np.clip(actions, -1, 1)                  # all actions between -1 and 1\n",
    "        env_info = env.step(actions)[brain_name]           # send all actions to tne environment\n",
    "        next_states = env_info.vector_observations         # get next state (for each agent)\n",
    "        rewards = env_info.rewards                         # get reward (for each agent)\n",
    "        dones = env_info.local_done                        # see if episode finished\n",
    "        scores += env_info.rewards                         # update the score (for each agent)\n",
    "        states = next_states                               # roll over states to next time step\n",
    "        if np.any(dones):                                  # exit loop if episode finished\n",
    "            break\n",
    "    print('Score (max over agents) from episode {}: {}'.format(i, np.amax(scores)))"
   ]
  },
  {
   "cell_type": "markdown",
   "metadata": {},
   "source": [
    "## 5. DDPG\n",
    "\n",
    "**Credit:** I have the DDPG code from DDPG_Pendulum folder, and made some appropriate changes to tweak the hyperparemeters"
   ]
  },
  {
   "cell_type": "code",
   "execution_count": 6,
   "metadata": {},
   "outputs": [],
   "source": [
    "from ddpg_agent_updated import Agent\n",
    "import datetime as dt\n",
    "import matplotlib.pyplot as plt\n",
    "import matplotlib.animation as animation\n",
    "    \n",
    "# self, num_agents,state_size, action_size, random_seed, gamma=GAMMA, tau= TAU, lr_actor=LR_ACTOR, lr_critic=LR_CRITIC, weight_decay=WEIGHT_DECAY, mu=0., theta=0.15, sigma=0.2, learn_rate=LEARNING_RATE, time_update = TIME_UPDATE, eps_max=EPS_MAX, eps_min=EPS_MIN, eps_decay=EPS_DECAY\n",
    "# agents = Agent(num_agents=num_agents, state_size=state_size, action_size=action_size, random_seed=1, gamma=0.99, tau=1e-3, lr_actor=1e-4, lr_critic=1e-3, weight_decay=0., mu=0., theta=0.12, sigma=0.2, learn_rate=10, time_update=10, eps_max=1.0, eps_min=0.1, eps_decay=0.)\n",
    "# agents = Agent(num_agents=num_agents, state_size=state_size, action_size=action_size, random_seed=1, gamma=0.99, tau=8e-3, lr_actor=1e-4, lr_critic=1e-3, weight_decay=0., mu=0., theta=0.12, sigma=0.2, learn_rate=10, time_update=10, eps_max=1.0, eps_min=0.1, eps_decay=0.)\n",
    "agents = Agent(num_agents=num_agents, state_size=state_size, action_size=action_size, random_seed=1, gamma=0.99, tau=8e-2, lr_actor=2e-4, lr_critic=2e-3, weight_decay=0., mu=0., theta=0.12, sigma=0.2, learn_rate=10, time_update=10, eps_max=1.0, eps_min=0.1, eps_decay=0.)"
   ]
  },
  {
   "cell_type": "code",
   "execution_count": null,
   "metadata": {
    "scrolled": true
   },
   "outputs": [
    {
     "name": "stdout",
     "output_type": "stream",
     "text": [
      "Episode 100\tSliding Max: 0.09\tNon-zero Count: 2\tAverage Score: 0.0018\n",
      "Episode 200\tSliding Max: 0.20\tNon-zero Count: 22\tAverage Score: 0.0234\n",
      "Episode 300\tSliding Max: 0.20\tNon-zero Count: 10\tAverage Score: 0.0127\n",
      "Episode 400\tSliding Max: 0.20\tNon-zero Count: 13\tAverage Score: 0.0137\n",
      "Episode 500\tSliding Max: 0.10\tNon-zero Count: 46\tAverage Score: 0.0438\n",
      "Episode 600\tSliding Max: 0.10\tNon-zero Count: 19\tAverage Score: 0.0188\n",
      "Episode 700\tSliding Max: 0.10\tNon-zero Count: 37\tAverage Score: 0.0355\n",
      "Episode 794\tSliding Max: 0.10\tNon-zero Count: 42\tAverage Score: 0.0402"
     ]
    }
   ],
   "source": [
    "# This cell was executed and the results of the cell are below. However for reasons unknown to me the cell is not showing a number or *.\n",
    "            \n",
    "def ddpg(n_episodes=2000, max_t=10000, print_every=100):\n",
    "    ''' DDPG Algorithm\n",
    "        \n",
    "        Params\n",
    "            n_episode (int): maximum number of training episodes\n",
    "            max_t (int): maximum number of timesteps per episode\n",
    "            print_every (int) : frequency of printing information throughout iteration \n",
    "    '''\n",
    "    \n",
    "    individual_max_scores = []                                      # Max scores from each episode\n",
    "    mean_scores = []\n",
    "    scores_window = deque(maxlen=print_every)\n",
    "    times_window = deque(maxlen=print_every)\n",
    "    \n",
    "    i_episode = 0\n",
    "        \n",
    "#     for i_episode in range(1, n_episodes+1):\n",
    "    while True:\n",
    "        \n",
    "        i_episode += 1\n",
    "        \n",
    "        env_info = env.reset(train_mode=True)[brain_name]     # Reset the environment    \n",
    "        states = env_info.vector_observations                 # Get the current states (for each agent)        \n",
    "        \n",
    "        agents.reset()\n",
    "        \n",
    "        scores = np.zeros(num_agents)                       # Reset the score\n",
    "        start_time = time.time()                              # Record start time\n",
    "        \n",
    "        t = 0\n",
    "        while True:\n",
    "#         for t in range(max_t):\n",
    "            actions = agents.act(states) # Action for the state\n",
    "            env_info = env.step(actions)[brain_name]     # Get the new details of the environment\n",
    "            \n",
    "            next_states = env_info.vector_observations      # Get the next state\n",
    "            rewards = env_info.rewards                   # Get the reward\n",
    "            dones = env_info.local_done                    # Get the done value\n",
    "            \n",
    "            agents.step(t, states, actions, rewards, next_states, dones)\n",
    "                \n",
    "            states = next_states\n",
    "            scores += rewards\n",
    "            \n",
    "            t += 1\n",
    "            \n",
    "            # Check if the episode is done\n",
    "            if np.any(dones):\n",
    "                break \n",
    "        \n",
    "        # calculate the mean score of all the agents for this episode and add to the mean\n",
    "        individual_max_scores.append(np.amax(scores)) \n",
    "        \n",
    "        # add the max score of all the agents for this episode to the sliding window\n",
    "        scores_window.append(np.amax(scores))\n",
    "        \n",
    "        # add the time for this episode to the sliding window\n",
    "        times_window.append(time.time()-start_time)\n",
    "        \n",
    "        # The mean of the scores window\n",
    "        last_mean = np.mean(scores_window)\n",
    "        \n",
    "        mean_scores.append(last_mean)\n",
    "        \n",
    "        # The mean of the times window\n",
    "        mean_time = np.mean(times_window)\n",
    "        \n",
    "        print('\\rEpisode {}\\tSliding Max: {:.2f}\\tNon-zero Count: {:d}\\tAverage Score: {:.4f}'.format(i_episode,np.amax(scores_window), np.count_nonzero(scores_window),last_mean), end=\"\")\n",
    "        agents.save()\n",
    "        \n",
    "        if i_episode % print_every == 0:\n",
    "            print('\\rEpisode {}\\tSliding Max: {:.2f}\\tNon-zero Count: {:d}\\tAverage Score: {:.4f}'.format(i_episode,np.amax(scores_window),np.count_nonzero(scores_window),last_mean))\n",
    "        \n",
    "        if last_mean > 0.5 and i_episode > 100:\n",
    "            print('\\nEnvironment solved in {:d} episodes!\\tAverage Score: {:.3f}'.format(i_episode, last_mean))\n",
    "            agents.save()\n",
    "            break\n",
    "            \n",
    "    return individual_max_scores, mean_scores\n",
    "#1000000\n",
    "#100000\n",
    "#10000\n",
    "#50000\n",
    "scores, mean_scores = ddpg(n_episodes=50000, max_t=10000000, print_every=100)\n",
    "\n",
    "fig = plt.figure()\n",
    "ax = fig.add_subplot(111)\n",
    "plt.plot(np.arange(1, len(scores)+1), scores,'b',label='Episode Scores')\n",
    "plt.plot(np.arange(1, len(scores)+1), mean_scores,'r',\\\n",
    "         linewidth=1,label='Avg. score')\n",
    "plt.ylabel('Score')\n",
    "plt.xlabel('Episode #')\n",
    "plt.show()"
   ]
  },
  {
   "cell_type": "markdown",
   "metadata": {},
   "source": [
    "### 4. It's Your Turn!\n",
    "\n",
    "Now it's your turn to train your own agent to solve the environment!  When training the environment, set `train_mode=True`, so that the line for resetting the environment looks like the following:\n",
    "```python\n",
    "env_info = env.reset(train_mode=True)[brain_name]\n",
    "```"
   ]
  },
  {
   "cell_type": "markdown",
   "metadata": {},
   "source": [
    "When finished, you can close the environment."
   ]
  },
  {
   "cell_type": "code",
   "execution_count": null,
   "metadata": {},
   "outputs": [],
   "source": [
    "env.close()"
   ]
  }
 ],
 "metadata": {
  "kernelspec": {
   "display_name": "drlnd",
   "language": "python",
   "name": "drlnd"
  },
  "language_info": {
   "codemirror_mode": {
    "name": "ipython",
    "version": 3
   },
   "file_extension": ".py",
   "mimetype": "text/x-python",
   "name": "python",
   "nbconvert_exporter": "python",
   "pygments_lexer": "ipython3",
   "version": "3.6.8"
  }
 },
 "nbformat": 4,
 "nbformat_minor": 2
}
