{
 "cells": [
  {
   "cell_type": "markdown",
   "metadata": {},
   "source": [
    "# Collaboration and Competition\n",
    "\n",
    "---\n",
    "\n",
    "In this notebook, you will learn how to use the Unity ML-Agents environment for the third project of the [Deep Reinforcement Learning Nanodegree](https://www.udacity.com/course/deep-reinforcement-learning-nanodegree--nd893) program.\n",
    "\n",
    "### 1. Start the Environment\n",
    "\n",
    "We begin by importing the necessary packages.  If the code cell below returns an error, please revisit the project instructions to double-check that you have installed [Unity ML-Agents](https://github.com/Unity-Technologies/ml-agents/blob/master/docs/Installation.md) and [NumPy](http://www.numpy.org/)."
   ]
  },
  {
   "cell_type": "code",
   "execution_count": 1,
   "metadata": {},
   "outputs": [],
   "source": [
    "from unityagents import UnityEnvironment\n",
    "import numpy as np\n",
    "import gym\n",
    "import random\n",
    "import torch\n",
    "import numpy as np\n",
    "from collections import deque\n",
    "import matplotlib.pyplot as plt\n",
    "import time\n",
    "%matplotlib inline"
   ]
  },
  {
   "cell_type": "markdown",
   "metadata": {},
   "source": [
    "Next, we will start the environment!  **_Before running the code cell below_**, change the `file_name` parameter to match the location of the Unity environment that you downloaded.\n",
    "\n",
    "- **Mac**: `\"path/to/Tennis.app\"`\n",
    "- **Windows** (x86): `\"path/to/Tennis_Windows_x86/Tennis.exe\"`\n",
    "- **Windows** (x86_64): `\"path/to/Tennis_Windows_x86_64/Tennis.exe\"`\n",
    "- **Linux** (x86): `\"path/to/Tennis_Linux/Tennis.x86\"`\n",
    "- **Linux** (x86_64): `\"path/to/Tennis_Linux/Tennis.x86_64\"`\n",
    "- **Linux** (x86, headless): `\"path/to/Tennis_Linux_NoVis/Tennis.x86\"`\n",
    "- **Linux** (x86_64, headless): `\"path/to/Tennis_Linux_NoVis/Tennis.x86_64\"`\n",
    "\n",
    "For instance, if you are using a Mac, then you downloaded `Tennis.app`.  If this file is in the same folder as the notebook, then the line below should appear as follows:\n",
    "```\n",
    "env = UnityEnvironment(file_name=\"Tennis.app\")\n",
    "```"
   ]
  },
  {
   "cell_type": "code",
   "execution_count": 2,
   "metadata": {},
   "outputs": [
    {
     "name": "stderr",
     "output_type": "stream",
     "text": [
      "INFO:unityagents:\n",
      "'Academy' started successfully!\n",
      "Unity Academy name: Academy\n",
      "        Number of Brains: 1\n",
      "        Number of External Brains : 1\n",
      "        Lesson number : 0\n",
      "        Reset Parameters :\n",
      "\t\t\n",
      "Unity brain name: TennisBrain\n",
      "        Number of Visual Observations (per agent): 0\n",
      "        Vector Observation space type: continuous\n",
      "        Vector Observation space size (per agent): 8\n",
      "        Number of stacked Vector Observation: 3\n",
      "        Vector Action space type: continuous\n",
      "        Vector Action space size (per agent): 2\n",
      "        Vector Action descriptions: , \n"
     ]
    }
   ],
   "source": [
    "env = UnityEnvironment(file_name=\"Tennis.app\")"
   ]
  },
  {
   "cell_type": "markdown",
   "metadata": {},
   "source": [
    "Environments contain **_brains_** which are responsible for deciding the actions of their associated agents. Here we check for the first brain available, and set it as the default brain we will be controlling from Python."
   ]
  },
  {
   "cell_type": "code",
   "execution_count": 3,
   "metadata": {},
   "outputs": [],
   "source": [
    "# get the default brain\n",
    "brain_name = env.brain_names[0]\n",
    "brain = env.brains[brain_name]"
   ]
  },
  {
   "cell_type": "markdown",
   "metadata": {},
   "source": [
    "### 2. Examine the State and Action Spaces\n",
    "\n",
    "In this environment, two agents control rackets to bounce a ball over a net. If an agent hits the ball over the net, it receives a reward of +0.1.  If an agent lets a ball hit the ground or hits the ball out of bounds, it receives a reward of -0.01.  Thus, the goal of each agent is to keep the ball in play.\n",
    "\n",
    "The observation space consists of 8 variables corresponding to the position and velocity of the ball and racket. Two continuous actions are available, corresponding to movement toward (or away from) the net, and jumping. \n",
    "\n",
    "Run the code cell below to print some information about the environment."
   ]
  },
  {
   "cell_type": "code",
   "execution_count": 4,
   "metadata": {},
   "outputs": [
    {
     "name": "stdout",
     "output_type": "stream",
     "text": [
      "Number of agents: 2\n",
      "Size of each action: 2\n",
      "There are 2 agents. Each observes a state with length: 24\n",
      "The state for the first agent looks like: [ 0.          0.          0.          0.          0.          0.\n",
      "  0.          0.          0.          0.          0.          0.\n",
      "  0.          0.          0.          0.         -6.65278625 -1.5\n",
      " -0.          0.          6.83172083  6.         -0.          0.        ]\n"
     ]
    }
   ],
   "source": [
    "# reset the environment\n",
    "env_info = env.reset(train_mode=True)[brain_name]\n",
    "\n",
    "# number of agents \n",
    "num_agents = len(env_info.agents)\n",
    "print('Number of agents:', num_agents)\n",
    "\n",
    "# size of each action\n",
    "action_size = brain.vector_action_space_size\n",
    "print('Size of each action:', action_size)\n",
    "\n",
    "# examine the state space \n",
    "states = env_info.vector_observations\n",
    "state_size = states.shape[1]\n",
    "print('There are {} agents. Each observes a state with length: {}'.format(states.shape[0], state_size))\n",
    "print('The state for the first agent looks like:', states[0])"
   ]
  },
  {
   "cell_type": "markdown",
   "metadata": {},
   "source": [
    "### 3. Take Random Actions in the Environment\n",
    "\n",
    "In the next code cell, you will learn how to use the Python API to control the agents and receive feedback from the environment.\n",
    "\n",
    "Once this cell is executed, you will watch the agents' performance, if they select actions at random with each time step.  A window should pop up that allows you to observe the agents.\n",
    "\n",
    "Of course, as part of the project, you'll have to change the code so that the agents are able to use their experiences to gradually choose better actions when interacting with the environment!"
   ]
  },
  {
   "cell_type": "code",
   "execution_count": 5,
   "metadata": {},
   "outputs": [
    {
     "name": "stdout",
     "output_type": "stream",
     "text": [
      "Score (max over agents) from episode 1: 0.0\n",
      "Score (max over agents) from episode 2: 0.0\n",
      "Score (max over agents) from episode 3: 0.0\n",
      "Score (max over agents) from episode 4: 0.0\n",
      "Score (max over agents) from episode 5: 0.0\n"
     ]
    }
   ],
   "source": [
    "for i in range(1, 6):                                      # play game for 5 episodes\n",
    "    env_info = env.reset(train_mode=False)[brain_name]     # reset the environment    \n",
    "    states = env_info.vector_observations                  # get the current state (for each agent)\n",
    "    scores = np.zeros(num_agents)                          # initialize the score (for each agent)\n",
    "    while True:\n",
    "        actions = np.random.randn(num_agents, action_size) # select an action (for each agent)\n",
    "        actions = np.clip(actions, -1, 1)                  # all actions between -1 and 1\n",
    "        env_info = env.step(actions)[brain_name]           # send all actions to tne environment\n",
    "        next_states = env_info.vector_observations         # get next state (for each agent)\n",
    "        rewards = env_info.rewards                         # get reward (for each agent)\n",
    "        dones = env_info.local_done                        # see if episode finished\n",
    "        scores += env_info.rewards                         # update the score (for each agent)\n",
    "        states = next_states                               # roll over states to next time step\n",
    "        if np.any(dones):                                  # exit loop if episode finished\n",
    "            break\n",
    "    print('Score (max over agents) from episode {}: {}'.format(i, np.amax(scores)))"
   ]
  },
  {
   "cell_type": "markdown",
   "metadata": {},
   "source": [
    "## 4. Training using DDPG\n",
    "\n",
    "**Credit:** I have the DDPG code from DDPG_Pendulum folder, and made some appropriate changes to tweak the hyperparemeters\n",
    "\n",
    "### 4.1. Important notes from Project instructions\n",
    "After each episode, we add up the rewards that each agent received (without discounting), to get a score for each agent. This yields 2 (potentially different) scores. We then take the maximum of these 2 scores. This yields a single score for each episode.\n",
    "\n",
    "### 4.2. First attempt\n",
    "\n",
    "Discounting is turned on and set to 0.99 \n",
    "\n",
    "#### 4.2.1 Hyperparameters\n",
    "\n",
    "- num_agents=2\n",
    "- state_size=24 (and taken from the environment)\n",
    "- action_size=2 (and taken from the environment)\n",
    "- random_seed=1\n",
    "- gamma=0.99\n",
    "- tau=8e-2\n",
    "- lr_actor=2e-4\n",
    "- lr_critic=2e-3\n",
    "- weight_decay=0.\n",
    "- mu=0.\n",
    "- theta=0.12\n",
    "- sigma=0.2 \n",
    "- learn_rate=10\n",
    "- time_update=10\n",
    "- batch_size=256\n",
    "- buffer_size=int(1e5)"
   ]
  },
  {
   "cell_type": "code",
   "execution_count": 6,
   "metadata": {},
   "outputs": [],
   "source": [
    "from ddpg_agent_updated_v2 import Agent\n",
    "import datetime as dt\n",
    "import matplotlib.pyplot as plt\n",
    "import matplotlib.animation as animation\n",
    "    \n",
    "# After each episode, we add up the rewards that each agent received (without discounting), to get a score for each agent. This yields 2 (potentially different) scores. We then take the maximum of these 2 scores.\n",
    "# This yields a single score for each episode.\n",
    "\n",
    "# The above note in the project instructions notes that we are not discounting the rewards. However for my first attempt I am discounting the rewards (though very close to 1)\n",
    "agents = Agent(num_agents=num_agents, state_size=state_size, action_size=action_size, random_seed=1, gamma=0.99, tau=8e-2, lr_actor=2e-4, lr_critic=2e-3, weight_decay=0., mu=0., theta=0.12, sigma=0.2, learn_rate=10, time_update=10, batch_size=256, buffer_size=int(1e5))"
   ]
  },
  {
   "cell_type": "markdown",
   "metadata": {},
   "source": [
    "### 4.3. Actual Training with the above hyperparameters"
   ]
  },
  {
   "cell_type": "code",
   "execution_count": 8,
   "metadata": {},
   "outputs": [],
   "source": [
    "# This cell was executed and the results of the cell are below. However for reasons unknown to me the cell is not showing a number or *.\n",
    "            \n",
    "def ddpg(print_every=100, name=''):\n",
    "    ''' DDPG Algorithm\n",
    "        \n",
    "        Params\n",
    "            n_episode (int): maximum number of training episodes\n",
    "            max_t (int): maximum number of timesteps per episode\n",
    "            print_every (int) : frequency of printing information throughout iteration \n",
    "    '''\n",
    "    \n",
    "    individual_max_scores = []                                      # Max scores from each episode\n",
    "    mean_scores = []\n",
    "    scores_window = deque(maxlen=print_every)\n",
    "    times_window = deque(maxlen=print_every)\n",
    "    \n",
    "    i_episode = 0\n",
    "        \n",
    "    while True:\n",
    "        \n",
    "        i_episode += 1\n",
    "        \n",
    "        env_info = env.reset(train_mode=True)[brain_name]     # Reset the environment    \n",
    "        states = env_info.vector_observations                 # Get the current states (for each agent)        \n",
    "        \n",
    "        agents.reset()\n",
    "        \n",
    "        scores = np.zeros(num_agents)                       # Reset the score\n",
    "        start_time = time.time()                              # Record start time\n",
    "        \n",
    "        t = 0\n",
    "        while t <= 2000:\n",
    "            actions = agents.act(states) # Action for the state\n",
    "            env_info = env.step(actions)[brain_name]     # Get the new details of the environment\n",
    "            \n",
    "            next_states = env_info.vector_observations      # Get the next state\n",
    "            rewards = env_info.rewards                   # Get the reward\n",
    "            dones = env_info.local_done                    # Get the done value\n",
    "            \n",
    "            agents.step(t, states, actions, rewards, next_states, dones)\n",
    "                \n",
    "            states = next_states\n",
    "            scores += rewards\n",
    "            \n",
    "            t += 1\n",
    "            \n",
    "            # Check if the episode is done\n",
    "            if np.any(dones):\n",
    "                break \n",
    "        \n",
    "        # Note from project instructions: \n",
    "        # After each episode, we add up the rewards that each agent received (without discounting), to get a score for each agent. \n",
    "        # This yields 2 (potentially different) scores. \n",
    "        # We then take the maximum of these 2 scores.\n",
    "        # This yields a single score for each episode.\n",
    "        \n",
    "        # Here, scores is a vector of all the scores after adding up the rewards for each agent w/o discounting\n",
    "        # We will take the max of the these scores and add to \n",
    "        # calculate the mean score of all the agents for this episode and add to the mean\n",
    "        last_max = np.max(scores)\n",
    "        individual_max_scores.append(last_max) \n",
    "        \n",
    "        # Note from project instructions: \n",
    "        # The environment is considered solved, when the average (over 100 episodes) of those scores is at least +0.5.\n",
    "        # add the max score of all the agents for this episode to the sliding window\n",
    "        scores_window.append(last_max)\n",
    "        \n",
    "        # add the time for this episode to the sliding window\n",
    "        times_window.append(time.time()-start_time)\n",
    "        \n",
    "        # The mean of the scores window\n",
    "        last_mean = np.mean(scores_window)\n",
    "        \n",
    "        mean_scores.append(last_mean)\n",
    "        \n",
    "        # The mean of the times window\n",
    "        mean_time = np.mean(times_window)\n",
    "        \n",
    "        print('\\rEpisode {}\\tEpisode Mean: {:.2f}\\tSliding Max: {:.2f}\\tNon-zero Count: {:d}\\tAverage Score: {:.4f}'.format(i_episode, np.mean(scores), np.max(scores_window), np.count_nonzero(scores_window),last_mean), end=\"\")\n",
    "        agents.save(name)\n",
    "        \n",
    "        if i_episode % print_every == 0:\n",
    "            print('\\rEpisode {}\\tEpisode Mean: {:.2f}\\tSliding Max: {:.2f}\\tNon-zero Count: {:d}\\tAverage Score: {:.4f}'.format(i_episode, np.mean(scores), np.max(scores_window), np.count_nonzero(scores_window),last_mean))\n",
    "        \n",
    "        if last_mean > 0.5 and i_episode > 100:\n",
    "            print('\\nEnvironment solved in {:d} episodes!\\tAverage Score: {:.2f}'.format(i_episode, last_mean))\n",
    "            agents.save()\n",
    "            break\n",
    "            \n",
    "    return individual_max_scores, mean_scores"
   ]
  },
  {
   "cell_type": "markdown",
   "metadata": {},
   "source": [
    "### 4.4. Plotting of the results"
   ]
  },
  {
   "cell_type": "code",
   "execution_count": 7,
   "metadata": {
    "scrolled": false
   },
   "outputs": [
    {
     "name": "stdout",
     "output_type": "stream",
     "text": [
      "Episode 100\tEpisode Mean: -0.00\tSliding Max: 0.19\tNon-zero Count: 13\tAverage Score: 0.0135\n",
      "Episode 200\tEpisode Mean: -0.00\tSliding Max: 0.20\tNon-zero Count: 40\tAverage Score: 0.0429\n",
      "Episode 300\tEpisode Mean: 0.05\tSliding Max: 0.20\tNon-zero Count: 48\tAverage Score: 0.05044\n",
      "Episode 400\tEpisode Mean: 0.30\tSliding Max: 0.30\tNon-zero Count: 61\tAverage Score: 0.06911\n",
      "Episode 500\tEpisode Mean: 0.15\tSliding Max: 0.30\tNon-zero Count: 63\tAverage Score: 0.07222\n",
      "Episode 600\tEpisode Mean: 0.05\tSliding Max: 0.30\tNon-zero Count: 62\tAverage Score: 0.07288\n",
      "Episode 700\tEpisode Mean: 0.05\tSliding Max: 0.50\tNon-zero Count: 76\tAverage Score: 0.10803\n",
      "Episode 800\tEpisode Mean: 0.15\tSliding Max: 0.60\tNon-zero Count: 88\tAverage Score: 0.14354\n",
      "Episode 900\tEpisode Mean: 0.40\tSliding Max: 1.40\tNon-zero Count: 91\tAverage Score: 0.21066\n",
      "Episode 1000\tEpisode Mean: 0.15\tSliding Max: 2.60\tNon-zero Count: 91\tAverage Score: 0.3833\n",
      "Episode 1047\tEpisode Mean: 2.55\tSliding Max: 2.60\tNon-zero Count: 94\tAverage Score: 0.51843\n",
      "Environment solved in 1047 episodes!\tAverage Score: 0.52\n"
     ]
    },
    {
     "data": {
      "image/png": "[encoded data removed]",
      "text/plain": [
       "<Figure size 432x288 with 1 Axes>"
      ]
     },
     "metadata": {
      "needs_background": "light"
     },
     "output_type": "display_data"
    }
   ],
   "source": [
    "scores, mean_scores = ddpg(print_every=100)\n",
    "\n",
    "fig = plt.figure()\n",
    "ax = fig.add_subplot(111)\n",
    "plt.plot(np.arange(1, len(scores)+1), scores,'b',label='Episode Scores')\n",
    "plt.plot(np.arange(1, len(scores)+1), mean_scores,'r',\\\n",
    "         linewidth=1,label='Avg. score')\n",
    "plt.ylabel('Score')\n",
    "plt.xlabel('Episode #')\n",
    "plt.show()"
   ]
  },
  {
   "cell_type": "markdown",
   "metadata": {},
   "source": [
    "### 4.5. First attempt\n",
    "\n",
    "Discounting is turned off (set the gamma to 1) \n",
    "\n",
    "#### 4.5.1 Hyperparameters\n",
    "\n",
    "- num_agents=2\n",
    "- state_size=24 (and taken from the environment)\n",
    "- action_size=2 (and taken from the environment)\n",
    "- random_seed=1\n",
    "- gamma=1.\n",
    "- tau=8e-2\n",
    "- lr_actor=2e-4\n",
    "- lr_critic=2e-3\n",
    "- weight_decay=0.\n",
    "- mu=0.\n",
    "- theta=0.12\n",
    "- sigma=0.2 \n",
    "- learn_rate=10\n",
    "- time_update=10\n",
    "- batch_size=256\n",
    "- buffer_size=int(1e5)"
   ]
  },
  {
   "cell_type": "markdown",
   "metadata": {},
   "source": [
    "### 4.6. Actual Training with the above hyperparameters followed by plotting of the results"
   ]
  },
  {
   "cell_type": "code",
   "execution_count": null,
   "metadata": {},
   "outputs": [
    {
     "name": "stdout",
     "output_type": "stream",
     "text": [
      "Episode 100\tEpisode Mean: -0.00\tSliding Max: 0.10\tNon-zero Count: 2\tAverage Score: 0.0020\n",
      "Episode 200\tEpisode Mean: 0.10\tSliding Max: 0.10\tNon-zero Count: 19\tAverage Score: 0.01822\n",
      "Episode 300\tEpisode Mean: -0.00\tSliding Max: 0.49\tNon-zero Count: 50\tAverage Score: 0.0664\n",
      "Episode 400\tEpisode Mean: -0.00\tSliding Max: 0.60\tNon-zero Count: 70\tAverage Score: 0.1208\n",
      "Episode 500\tEpisode Mean: 0.20\tSliding Max: 0.69\tNon-zero Count: 86\tAverage Score: 0.17867\n",
      "Episode 600\tEpisode Mean: 0.05\tSliding Max: 0.90\tNon-zero Count: 91\tAverage Score: 0.18599\n",
      "Episode 700\tEpisode Mean: 0.15\tSliding Max: 0.50\tNon-zero Count: 91\tAverage Score: 0.15900\n",
      "Episode 800\tEpisode Mean: -0.00\tSliding Max: 0.59\tNon-zero Count: 93\tAverage Score: 0.1741\n",
      "Episode 801\tEpisode Mean: 0.15\tSliding Max: 0.59\tNon-zero Count: 93\tAverage Score: 0.1751"
     ]
    }
   ],
   "source": [
    "# Keeping the batch size as 256 and moving to gamma of 1 i.e., no discounting\n",
    "agents = Agent(num_agents=num_agents, state_size=state_size, action_size=action_size, random_seed=1, gamma=1., tau=8e-2, lr_actor=2e-4, lr_critic=2e-3, weight_decay=0., mu=0., theta=0.12, sigma=0.2, learn_rate=10, time_update=10, batch_size=256, buffer_size=int(1e5))\n",
    "\n",
    "scores, mean_scores = ddpg(print_every=100)\n",
    "\n",
    "fig = plt.figure()\n",
    "ax = fig.add_subplot(111)\n",
    "plt.plot(np.arange(1, len(scores)+1), scores,'b',label='Episode Scores')\n",
    "plt.plot(np.arange(1, len(scores)+1), mean_scores,'r',\\\n",
    "         linewidth=1,label='Avg. score')\n",
    "plt.ylabel('Score')\n",
    "plt.xlabel('Episode #')\n",
    "plt.show()"
   ]
  },
  {
   "cell_type": "markdown",
   "metadata": {},
   "source": [
    "When finished, you can close the environment."
   ]
  },
  {
   "cell_type": "code",
   "execution_count": 8,
   "metadata": {},
   "outputs": [],
   "source": [
    "env.close()"
   ]
  }
 ],
 "metadata": {
  "kernelspec": {
   "display_name": "drlnd",
   "language": "python",
   "name": "drlnd"
  },
  "language_info": {
   "codemirror_mode": {
    "name": "ipython",
    "version": 3
   },
   "file_extension": ".py",
   "mimetype": "text/x-python",
   "name": "python",
   "nbconvert_exporter": "python",
   "pygments_lexer": "ipython3",
   "version": "3.6.8"
  }
 },
 "nbformat": 4,
 "nbformat_minor": 2
}
